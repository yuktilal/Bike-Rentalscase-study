{
 "cells": [
  {
   "cell_type": "code",
   "execution_count": 42,
   "id": "94b4488d",
   "metadata": {},
   "outputs": [],
   "source": [
    "import pandas as pd\n",
    "from sklearn.model_selection import train_test_split\n",
    "from sklearn.linear_model import LinearRegression\n",
    "from sklearn.metrics import mean_absolute_error, mean_squared_error, r2_score\n",
    "import matplotlib.pyplot as plt\n"
   ]
  },
  {
   "cell_type": "code",
   "execution_count": 35,
   "id": "033e926e",
   "metadata": {},
   "outputs": [],
   "source": [
    "data = pd.read_csv('bikedata.csv') "
   ]
  },
  {
   "cell_type": "code",
   "execution_count": 18,
   "id": "156de351",
   "metadata": {},
   "outputs": [
    {
     "data": {
      "text/plain": [
       "<bound method NDFrame.describe of      instant      dteday  season  yr  mnth  holiday  weekday  workingday  \\\n",
       "0          1  01-01-2018       1   0     1        0        6           0   \n",
       "1          2  02-01-2018       1   0     1        0        0           0   \n",
       "2          3  03-01-2018       1   0     1        0        1           1   \n",
       "3          4  04-01-2018       1   0     1        0        2           1   \n",
       "4          5  05-01-2018       1   0     1        0        3           1   \n",
       "..       ...         ...     ...  ..   ...      ...      ...         ...   \n",
       "725      726  27-12-2019       1   1    12        0        4           1   \n",
       "726      727  28-12-2019       1   1    12        0        5           1   \n",
       "727      728  29-12-2019       1   1    12        0        6           0   \n",
       "728      729  30-12-2019       1   1    12        0        0           0   \n",
       "729      730  31-12-2019       1   1    12        0        1           1   \n",
       "\n",
       "     weathersit       temp     atemp      hum  windspeed  casual  registered  \\\n",
       "0             2  14.110847  18.18125  80.5833  10.749882     331         654   \n",
       "1             2  14.902598  17.68695  69.6087  16.652113     131         670   \n",
       "2             1   8.050924   9.47025  43.7273  16.636703     120        1229   \n",
       "3             1   8.200000  10.60610  59.0435  10.739832     108        1454   \n",
       "4             1   9.305237  11.46350  43.6957  12.522300      82        1518   \n",
       "..          ...        ...       ...      ...        ...     ...         ...   \n",
       "725           2  10.420847  11.33210  65.2917  23.458911     247        1867   \n",
       "726           2  10.386653  12.75230  59.0000  10.416557     644        2451   \n",
       "727           2  10.386653  12.12000  75.2917   8.333661     159        1182   \n",
       "728           1  10.489153  11.58500  48.3333  23.500518     364        1432   \n",
       "729           2   8.849153  11.17435  57.7500  10.374682     439        2290   \n",
       "\n",
       "      cnt  \n",
       "0     985  \n",
       "1     801  \n",
       "2    1349  \n",
       "3    1562  \n",
       "4    1600  \n",
       "..    ...  \n",
       "725  2114  \n",
       "726  3095  \n",
       "727  1341  \n",
       "728  1796  \n",
       "729  2729  \n",
       "\n",
       "[730 rows x 16 columns]>"
      ]
     },
     "execution_count": 18,
     "metadata": {},
     "output_type": "execute_result"
    }
   ],
   "source": [
    "data.describe"
   ]
  },
  {
   "cell_type": "code",
   "execution_count": 32,
   "id": "bf83bd7b",
   "metadata": {},
   "outputs": [],
   "source": [
    "data['Feature2'] = data['weathersit'].astype('category')"
   ]
  },
  {
   "cell_type": "code",
   "execution_count": 38,
   "id": "06f6af82",
   "metadata": {},
   "outputs": [
    {
     "data": {
      "text/plain": [
       "<bound method NDFrame.describe of      instant      dteday  season  yr  mnth  holiday  weekday  workingday  \\\n",
       "0          1  01-01-2018       1   0     1        0        6           0   \n",
       "1          2  02-01-2018       1   0     1        0        0           0   \n",
       "2          3  03-01-2018       1   0     1        0        1           1   \n",
       "3          4  04-01-2018       1   0     1        0        2           1   \n",
       "4          5  05-01-2018       1   0     1        0        3           1   \n",
       "..       ...         ...     ...  ..   ...      ...      ...         ...   \n",
       "725      726  27-12-2019       1   1    12        0        4           1   \n",
       "726      727  28-12-2019       1   1    12        0        5           1   \n",
       "727      728  29-12-2019       1   1    12        0        6           0   \n",
       "728      729  30-12-2019       1   1    12        0        0           0   \n",
       "729      730  31-12-2019       1   1    12        0        1           1   \n",
       "\n",
       "     weathersit       temp     atemp      hum  windspeed  casual  registered  \\\n",
       "0             2  14.110847  18.18125  80.5833  10.749882     331         654   \n",
       "1             2  14.902598  17.68695  69.6087  16.652113     131         670   \n",
       "2             1   8.050924   9.47025  43.7273  16.636703     120        1229   \n",
       "3             1   8.200000  10.60610  59.0435  10.739832     108        1454   \n",
       "4             1   9.305237  11.46350  43.6957  12.522300      82        1518   \n",
       "..          ...        ...       ...      ...        ...     ...         ...   \n",
       "725           2  10.420847  11.33210  65.2917  23.458911     247        1867   \n",
       "726           2  10.386653  12.75230  59.0000  10.416557     644        2451   \n",
       "727           2  10.386653  12.12000  75.2917   8.333661     159        1182   \n",
       "728           1  10.489153  11.58500  48.3333  23.500518     364        1432   \n",
       "729           2   8.849153  11.17435  57.7500  10.374682     439        2290   \n",
       "\n",
       "      cnt  \n",
       "0     985  \n",
       "1     801  \n",
       "2    1349  \n",
       "3    1562  \n",
       "4    1600  \n",
       "..    ...  \n",
       "725  2114  \n",
       "726  3095  \n",
       "727  1341  \n",
       "728  1796  \n",
       "729  2729  \n",
       "\n",
       "[730 rows x 16 columns]>"
      ]
     },
     "execution_count": 38,
     "metadata": {},
     "output_type": "execute_result"
    }
   ],
   "source": [
    "data.describe"
   ]
  },
  {
   "cell_type": "code",
   "execution_count": 39,
   "id": "d1c3ca9a",
   "metadata": {},
   "outputs": [],
   "source": [
    "# Select relevant features and the target variable\n",
    "X = data[['temp', 'atemp', 'hum', 'windspeed', 'season', 'yr', 'mnth', 'holiday', 'weekday', 'workingday', 'weathersit']]\n",
    "y = data['cnt']"
   ]
  },
  {
   "cell_type": "code",
   "execution_count": 40,
   "id": "ac477766",
   "metadata": {},
   "outputs": [],
   "source": [
    "# Split the data into training and testing sets\n",
    "X_train, X_test, y_train, y_test = train_test_split(X, y, test_size=0.2, random_state=42)"
   ]
  },
  {
   "cell_type": "code",
   "execution_count": 47,
   "id": "638d2d3e",
   "metadata": {},
   "outputs": [
    {
     "data": {
      "text/plain": [
       "LinearRegression()"
      ]
     },
     "execution_count": 47,
     "metadata": {},
     "output_type": "execute_result"
    }
   ],
   "source": [
    "# Create and train the multiple linear regression model\n",
    "model = LinearRegression()\n",
    "model.fit(X_train, y_train)"
   ]
  },
  {
   "cell_type": "code",
   "execution_count": 49,
   "id": "73f1139f",
   "metadata": {},
   "outputs": [],
   "source": [
    "# make predictions on the test set\n",
    "y_pred=model.predict(X_test)"
   ]
  },
  {
   "cell_type": "code",
   "execution_count": 52,
   "id": "3f59aa22",
   "metadata": {},
   "outputs": [],
   "source": [
    "# Evaluate the model\n",
    "mae = mean_absolute_error(y_test, y_pred)\n",
    "mse = mean_squared_error(y_test, y_pred)\n",
    "rmse = mean_squared_error(y_test, y_pred, squared=False)\n",
    "r2 = r2_score(y_test, y_pred)"
   ]
  },
  {
   "cell_type": "code",
   "execution_count": 53,
   "id": "cc7144cb",
   "metadata": {},
   "outputs": [
    {
     "name": "stdout",
     "output_type": "stream",
     "text": [
      "Mean Absolute Error: 570.7139049879678\n",
      "Mean Squared Error: 562913.0197910956\n",
      "Root Mean Squared Error: 750.2752960021379\n",
      "R-squared (R2): 0.8355422116950036\n"
     ]
    }
   ],
   "source": [
    "print(f'Mean Absolute Error: {mae}')\n",
    "print(f'Mean Squared Error: {mse}')\n",
    "print(f'Root Mean Squared Error: {rmse}')\n",
    "print(f'R-squared (R2): {r2}')"
   ]
  },
  {
   "cell_type": "code",
   "execution_count": 54,
   "id": "5a22eb36",
   "metadata": {},
   "outputs": [
    {
     "data": {
      "image/png": "[encoded data removed]",
      "text/plain": [
       "<Figure size 640x480 with 1 Axes>"
      ]
     },
     "metadata": {},
     "output_type": "display_data"
    }
   ],
   "source": [
    "# Visualize actual vs. predicted values\n",
    "plt.scatter(y_test, y_pred)\n",
    "plt.xlabel('Actual Count (y_test)')\n",
    "plt.ylabel('Predicted Count (y_pred)')\n",
    "plt.title('Actual vs. Predicted Bike Counts')\n",
    "plt.show()"
   ]
  }
 ],
 "metadata": {
  "kernelspec": {
   "display_name": "Python 3 (ipykernel)",
   "language": "python",
   "name": "python3"
  },
  "language_info": {
   "codemirror_mode": {
    "name": "ipython",
    "version": 3
   },
   "file_extension": ".py",
   "mimetype": "text/x-python",
   "name": "python",
   "nbconvert_exporter": "python",
   "pygments_lexer": "ipython3",
   "version": "3.9.13"
  }
 },
 "nbformat": 4,
 "nbformat_minor": 5
}
